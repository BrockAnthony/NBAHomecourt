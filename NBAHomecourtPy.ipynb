{
 "cells": [
  {
   "cell_type": "code",
   "execution_count": 27,
   "id": "60d59289",
   "metadata": {},
   "outputs": [],
   "source": [
    "import pandas as pd\n",
    "from pandas import json_normalize \n",
    "import requests\n",
    "import os"
   ]
  },
  {
   "cell_type": "code",
   "execution_count": 23,
   "id": "c4ff3f94",
   "metadata": {},
   "outputs": [],
   "source": [
    "years = list(range(1984,2023))"
   ]
  },
  {
   "cell_type": "code",
   "execution_count": 28,
   "id": "a513ae3f",
   "metadata": {},
   "outputs": [
    {
     "data": {
      "text/plain": [
       "'/Users/brockada'"
      ]
     },
     "execution_count": 28,
     "metadata": {},
     "output_type": "execute_result"
    }
   ],
   "source": [
    "os.getcwd()"
   ]
  },
  {
   "cell_type": "code",
   "execution_count": 25,
   "id": "f20a67f1",
   "metadata": {},
   "outputs": [],
   "source": [
    "url_start = \"https://www.basketball-reference.com/leagues/NBA_{}_standings.html#all_expanded_standings\""
   ]
  },
  {
   "cell_type": "code",
   "execution_count": 26,
   "id": "495ce3aa",
   "metadata": {},
   "outputs": [
    {
     "ename": "FileNotFoundError",
     "evalue": "[Errno 2] No such file or directory: 'ExpandedStandings/1984.html'",
     "output_type": "error",
     "traceback": [
      "\u001b[0;31m---------------------------------------------------------------------------\u001b[0m",
      "\u001b[0;31mFileNotFoundError\u001b[0m                         Traceback (most recent call last)",
      "\u001b[0;32m/var/folders/ds/5xnp18cs5knb1_1qlw5t3xvr0000gn/T/ipykernel_90943/1048571324.py\u001b[0m in \u001b[0;36m<cell line: 1>\u001b[0;34m()\u001b[0m\n\u001b[1;32m      3\u001b[0m     \u001b[0mdata\u001b[0m \u001b[0;34m=\u001b[0m \u001b[0mrequests\u001b[0m\u001b[0;34m.\u001b[0m\u001b[0mget\u001b[0m\u001b[0;34m(\u001b[0m\u001b[0murl\u001b[0m\u001b[0;34m)\u001b[0m\u001b[0;34m\u001b[0m\u001b[0;34m\u001b[0m\u001b[0m\n\u001b[1;32m      4\u001b[0m \u001b[0;34m\u001b[0m\u001b[0m\n\u001b[0;32m----> 5\u001b[0;31m     \u001b[0;32mwith\u001b[0m \u001b[0mopen\u001b[0m\u001b[0;34m(\u001b[0m\u001b[0;34m'ExpandedStandings/{}.html'\u001b[0m\u001b[0;34m.\u001b[0m\u001b[0mformat\u001b[0m\u001b[0;34m(\u001b[0m\u001b[0myear\u001b[0m\u001b[0;34m)\u001b[0m\u001b[0;34m,\u001b[0m \u001b[0;34m'w+'\u001b[0m\u001b[0;34m)\u001b[0m \u001b[0;32mas\u001b[0m \u001b[0mf\u001b[0m\u001b[0;34m:\u001b[0m\u001b[0;34m\u001b[0m\u001b[0;34m\u001b[0m\u001b[0m\n\u001b[0m\u001b[1;32m      6\u001b[0m         \u001b[0mf\u001b[0m\u001b[0;34m.\u001b[0m\u001b[0mwrite\u001b[0m\u001b[0;34m(\u001b[0m\u001b[0mdata\u001b[0m\u001b[0;34m.\u001b[0m\u001b[0mtext\u001b[0m\u001b[0;34m)\u001b[0m\u001b[0;34m\u001b[0m\u001b[0;34m\u001b[0m\u001b[0m\n",
      "\u001b[0;31mFileNotFoundError\u001b[0m: [Errno 2] No such file or directory: 'ExpandedStandings/1984.html'"
     ]
    }
   ],
   "source": [
    "for year in years:\n",
    "    url = url_start.format(year)\n",
    "    data = requests.get(url)\n",
    "    \n",
    "    with open('ExpandedStandings/{}.html'.format(year), 'w+') as f:\n",
    "        f.write(data.text)"
   ]
  },
  {
   "cell_type": "code",
   "execution_count": null,
   "id": "0c16f46c",
   "metadata": {},
   "outputs": [],
   "source": []
  },
  {
   "cell_type": "code",
   "execution_count": 22,
   "id": "5f7b80d9",
   "metadata": {},
   "outputs": [
    {
     "data": {
      "text/plain": [
       "[     Eastern Conference   W   L   W/L%    GB   PS/G   PA/G   SRS\n",
       " 0           Miami Heat*  53  29  0.646     —  110.0  105.6  4.23\n",
       " 1       Boston Celtics*  51  31  0.622   2.0  111.8  104.5  7.02\n",
       " 2      Milwaukee Bucks*  51  31  0.622   2.0  115.5  112.1  3.22\n",
       " 3   Philadelphia 76ers*  51  31  0.622   2.0  109.9  107.3  2.57\n",
       " 4      Toronto Raptors*  48  34  0.585   5.0  109.4  107.1  2.38\n",
       " 5        Chicago Bulls*  46  36  0.561   7.0  111.6  112.0 -0.38\n",
       " 6        Brooklyn Nets*  44  38  0.537   9.0  112.9  112.1  0.82\n",
       " 7   Cleveland Cavaliers  44  38  0.537   9.0  107.8  105.7  2.04\n",
       " 8        Atlanta Hawks*  43  39  0.524  10.0  113.9  112.4  1.55\n",
       " 9     Charlotte Hornets  43  39  0.524  10.0  115.3  114.9  0.53\n",
       " 10      New York Knicks  37  45  0.451  16.0  106.5  106.6 -0.01\n",
       " 11   Washington Wizards  35  47  0.427  18.0  108.6  112.0 -3.23\n",
       " 12       Indiana Pacers  25  57  0.305  28.0  111.5  114.9 -3.26\n",
       " 13      Detroit Pistons  23  59  0.280  30.0  104.8  112.5 -7.36\n",
       " 14        Orlando Magic  22  60  0.268  31.0  104.2  112.2 -7.67,\n",
       "          Western Conference   W   L   W/L%    GB   PS/G   PA/G   SRS\n",
       " 0             Phoenix Suns*  64  18  0.780     —  114.8  107.3  6.94\n",
       " 1        Memphis Grizzlies*  56  26  0.683   8.0  115.6  109.9  5.37\n",
       " 2    Golden State Warriors*  53  29  0.646  11.0  111.0  105.5  5.52\n",
       " 3         Dallas Mavericks*  52  30  0.634  12.0  108.0  104.7  3.12\n",
       " 4                Utah Jazz*  49  33  0.598  15.0  113.6  107.6  5.67\n",
       " 5           Denver Nuggets*  48  34  0.585  16.0  112.7  110.4  2.16\n",
       " 6   Minnesota Timberwolves*  46  36  0.561  18.0  115.9  113.3  2.53\n",
       " 7      Los Angeles Clippers  42  40  0.512  22.0  108.4  108.4  0.09\n",
       " 8     New Orleans Pelicans*  36  46  0.439  28.0  109.3  110.3 -0.84\n",
       " 9         San Antonio Spurs  34  48  0.415  30.0  113.2  113.0  0.02\n",
       " 10       Los Angeles Lakers  33  49  0.402  31.0  112.1  115.1 -3.08\n",
       " 11         Sacramento Kings  30  52  0.366  34.0  110.3  115.8 -5.26\n",
       " 12   Portland Trail Blazers  27  55  0.329  37.0  106.2  115.1 -8.55\n",
       " 13    Oklahoma City Thunder  24  58  0.293  40.0  103.7  111.8 -7.90\n",
       " 14          Houston Rockets  20  62  0.244  44.0  109.7  118.2 -8.26,\n",
       "      Eastern Conference                   W                   L  \\\n",
       " 0     Atlantic Division   Atlantic Division   Atlantic Division   \n",
       " 1       Boston Celtics*                  51                  31   \n",
       " 2   Philadelphia 76ers*                  51                  31   \n",
       " 3      Toronto Raptors*                  48                  34   \n",
       " 4        Brooklyn Nets*                  44                  38   \n",
       " 5       New York Knicks                  37                  45   \n",
       " 6      Central Division    Central Division    Central Division   \n",
       " 7      Milwaukee Bucks*                  51                  31   \n",
       " 8        Chicago Bulls*                  46                  36   \n",
       " 9   Cleveland Cavaliers                  44                  38   \n",
       " 10       Indiana Pacers                  25                  57   \n",
       " 11      Detroit Pistons                  23                  59   \n",
       " 12   Southeast Division  Southeast Division  Southeast Division   \n",
       " 13          Miami Heat*                  53                  29   \n",
       " 14       Atlanta Hawks*                  43                  39   \n",
       " 15    Charlotte Hornets                  43                  39   \n",
       " 16   Washington Wizards                  35                  47   \n",
       " 17        Orlando Magic                  22                  60   \n",
       " \n",
       "                   W/L%                  GB                PS/G  \\\n",
       " 0    Atlantic Division   Atlantic Division   Atlantic Division   \n",
       " 1                 .622                   —               111.8   \n",
       " 2                 .622                   —               109.9   \n",
       " 3                 .585                 3.0               109.4   \n",
       " 4                 .537                 7.0               112.9   \n",
       " 5                 .451                14.0               106.5   \n",
       " 6     Central Division    Central Division    Central Division   \n",
       " 7                 .622                   —               115.5   \n",
       " 8                 .561                 5.0               111.6   \n",
       " 9                 .537                 7.0               107.8   \n",
       " 10                .305                26.0               111.5   \n",
       " 11                .280                28.0               104.8   \n",
       " 12  Southeast Division  Southeast Division  Southeast Division   \n",
       " 13                .646                   —               110.0   \n",
       " 14                .524                10.0               113.9   \n",
       " 15                .524                10.0               115.3   \n",
       " 16                .427                18.0               108.6   \n",
       " 17                .268                31.0               104.2   \n",
       " \n",
       "                   PA/G                 SRS  \n",
       " 0    Atlantic Division   Atlantic Division  \n",
       " 1                104.5                7.02  \n",
       " 2                107.3                2.57  \n",
       " 3                107.1                2.38  \n",
       " 4                112.1                0.82  \n",
       " 5                106.6               -0.01  \n",
       " 6     Central Division    Central Division  \n",
       " 7                112.1                3.22  \n",
       " 8                112.0               -0.38  \n",
       " 9                105.7                2.04  \n",
       " 10               114.9               -3.26  \n",
       " 11               112.5               -7.36  \n",
       " 12  Southeast Division  Southeast Division  \n",
       " 13               105.6                4.23  \n",
       " 14               112.4                1.55  \n",
       " 15               114.9                0.53  \n",
       " 16               112.0               -3.23  \n",
       " 17               112.2               -7.67  ,\n",
       "          Western Conference                   W                   L  \\\n",
       " 0        Northwest Division  Northwest Division  Northwest Division   \n",
       " 1                Utah Jazz*                  49                  33   \n",
       " 2           Denver Nuggets*                  48                  34   \n",
       " 3   Minnesota Timberwolves*                  46                  36   \n",
       " 4    Portland Trail Blazers                  27                  55   \n",
       " 5     Oklahoma City Thunder                  24                  58   \n",
       " 6          Pacific Division    Pacific Division    Pacific Division   \n",
       " 7             Phoenix Suns*                  64                  18   \n",
       " 8    Golden State Warriors*                  53                  29   \n",
       " 9      Los Angeles Clippers                  42                  40   \n",
       " 10       Los Angeles Lakers                  33                  49   \n",
       " 11         Sacramento Kings                  30                  52   \n",
       " 12       Southwest Division  Southwest Division  Southwest Division   \n",
       " 13       Memphis Grizzlies*                  56                  26   \n",
       " 14        Dallas Mavericks*                  52                  30   \n",
       " 15    New Orleans Pelicans*                  36                  46   \n",
       " 16        San Antonio Spurs                  34                  48   \n",
       " 17          Houston Rockets                  20                  62   \n",
       " \n",
       "                   W/L%                  GB                PS/G  \\\n",
       " 0   Northwest Division  Northwest Division  Northwest Division   \n",
       " 1                 .598                   —               113.6   \n",
       " 2                 .585                 1.0               112.7   \n",
       " 3                 .561                 3.0               115.9   \n",
       " 4                 .329                22.0               106.2   \n",
       " 5                 .293                25.0               103.7   \n",
       " 6     Pacific Division    Pacific Division    Pacific Division   \n",
       " 7                 .780                   —               114.8   \n",
       " 8                 .646                11.0               111.0   \n",
       " 9                 .512                22.0               108.4   \n",
       " 10                .402                31.0               112.1   \n",
       " 11                .366                34.0               110.3   \n",
       " 12  Southwest Division  Southwest Division  Southwest Division   \n",
       " 13                .683                   —               115.6   \n",
       " 14                .634                 4.0               108.0   \n",
       " 15                .439                20.0               109.3   \n",
       " 16                .415                22.0               113.2   \n",
       " 17                .244                36.0               109.7   \n",
       " \n",
       "                   PA/G                 SRS  \n",
       " 0   Northwest Division  Northwest Division  \n",
       " 1                107.6                5.67  \n",
       " 2                110.4                2.16  \n",
       " 3                113.3                2.53  \n",
       " 4                115.1               -8.55  \n",
       " 5                111.8               -7.90  \n",
       " 6     Pacific Division    Pacific Division  \n",
       " 7                107.3                6.94  \n",
       " 8                105.5                5.52  \n",
       " 9                108.4                0.09  \n",
       " 10               115.1               -3.08  \n",
       " 11               115.8               -5.26  \n",
       " 12  Southwest Division  Southwest Division  \n",
       " 13               109.9                5.37  \n",
       " 14               104.7                3.12  \n",
       " 15               110.3               -0.84  \n",
       " 16               113.0                0.02  \n",
       " 17               118.2               -8.26  ]"
      ]
     },
     "execution_count": 22,
     "metadata": {},
     "output_type": "execute_result"
    }
   ],
   "source": [
    "home_stats"
   ]
  },
  {
   "cell_type": "code",
   "execution_count": 20,
   "id": "e4a5745f",
   "metadata": {},
   "outputs": [
    {
     "ename": "ParserError",
     "evalue": "Expected 11 fields in line 3, saw 22. Error could possibly be due to quotes being ignored when a multi-char delimiter is used.",
     "output_type": "error",
     "traceback": [
      "\u001b[0;31m---------------------------------------------------------------------------\u001b[0m",
      "\u001b[0;31mParserError\u001b[0m                               Traceback (most recent call last)",
      "\u001b[0;32m/var/folders/ds/5xnp18cs5knb1_1qlw5t3xvr0000gn/T/ipykernel_90943/1387364673.py\u001b[0m in \u001b[0;36m<cell line: 1>\u001b[0;34m()\u001b[0m\n\u001b[0;32m----> 1\u001b[0;31m \u001b[0mpd\u001b[0m\u001b[0;34m.\u001b[0m\u001b[0mread_clipboard\u001b[0m\u001b[0;34m(\u001b[0m\u001b[0;34m)\u001b[0m\u001b[0;34m\u001b[0m\u001b[0;34m\u001b[0m\u001b[0m\n\u001b[0m",
      "\u001b[0;32m~/miniconda3/lib/python3.10/site-packages/pandas/io/clipboards.py\u001b[0m in \u001b[0;36mread_clipboard\u001b[0;34m(sep, **kwargs)\u001b[0m\n\u001b[1;32m     86\u001b[0m         )\n\u001b[1;32m     87\u001b[0m \u001b[0;34m\u001b[0m\u001b[0m\n\u001b[0;32m---> 88\u001b[0;31m     \u001b[0;32mreturn\u001b[0m \u001b[0mread_csv\u001b[0m\u001b[0;34m(\u001b[0m\u001b[0mStringIO\u001b[0m\u001b[0;34m(\u001b[0m\u001b[0mtext\u001b[0m\u001b[0;34m)\u001b[0m\u001b[0;34m,\u001b[0m \u001b[0msep\u001b[0m\u001b[0;34m=\u001b[0m\u001b[0msep\u001b[0m\u001b[0;34m,\u001b[0m \u001b[0;34m**\u001b[0m\u001b[0mkwargs\u001b[0m\u001b[0;34m)\u001b[0m\u001b[0;34m\u001b[0m\u001b[0;34m\u001b[0m\u001b[0m\n\u001b[0m\u001b[1;32m     89\u001b[0m \u001b[0;34m\u001b[0m\u001b[0m\n\u001b[1;32m     90\u001b[0m \u001b[0;34m\u001b[0m\u001b[0m\n",
      "\u001b[0;32m~/miniconda3/lib/python3.10/site-packages/pandas/util/_decorators.py\u001b[0m in \u001b[0;36mwrapper\u001b[0;34m(*args, **kwargs)\u001b[0m\n\u001b[1;32m    209\u001b[0m                 \u001b[0;32melse\u001b[0m\u001b[0;34m:\u001b[0m\u001b[0;34m\u001b[0m\u001b[0;34m\u001b[0m\u001b[0m\n\u001b[1;32m    210\u001b[0m                     \u001b[0mkwargs\u001b[0m\u001b[0;34m[\u001b[0m\u001b[0mnew_arg_name\u001b[0m\u001b[0;34m]\u001b[0m \u001b[0;34m=\u001b[0m \u001b[0mnew_arg_value\u001b[0m\u001b[0;34m\u001b[0m\u001b[0;34m\u001b[0m\u001b[0m\n\u001b[0;32m--> 211\u001b[0;31m             \u001b[0;32mreturn\u001b[0m \u001b[0mfunc\u001b[0m\u001b[0;34m(\u001b[0m\u001b[0;34m*\u001b[0m\u001b[0margs\u001b[0m\u001b[0;34m,\u001b[0m \u001b[0;34m**\u001b[0m\u001b[0mkwargs\u001b[0m\u001b[0;34m)\u001b[0m\u001b[0;34m\u001b[0m\u001b[0;34m\u001b[0m\u001b[0m\n\u001b[0m\u001b[1;32m    212\u001b[0m \u001b[0;34m\u001b[0m\u001b[0m\n\u001b[1;32m    213\u001b[0m         \u001b[0;32mreturn\u001b[0m \u001b[0mcast\u001b[0m\u001b[0;34m(\u001b[0m\u001b[0mF\u001b[0m\u001b[0;34m,\u001b[0m \u001b[0mwrapper\u001b[0m\u001b[0;34m)\u001b[0m\u001b[0;34m\u001b[0m\u001b[0;34m\u001b[0m\u001b[0m\n",
      "\u001b[0;32m~/miniconda3/lib/python3.10/site-packages/pandas/util/_decorators.py\u001b[0m in \u001b[0;36mwrapper\u001b[0;34m(*args, **kwargs)\u001b[0m\n\u001b[1;32m    329\u001b[0m                     \u001b[0mstacklevel\u001b[0m\u001b[0;34m=\u001b[0m\u001b[0mfind_stack_level\u001b[0m\u001b[0;34m(\u001b[0m\u001b[0;34m)\u001b[0m\u001b[0;34m,\u001b[0m\u001b[0;34m\u001b[0m\u001b[0;34m\u001b[0m\u001b[0m\n\u001b[1;32m    330\u001b[0m                 )\n\u001b[0;32m--> 331\u001b[0;31m             \u001b[0;32mreturn\u001b[0m \u001b[0mfunc\u001b[0m\u001b[0;34m(\u001b[0m\u001b[0;34m*\u001b[0m\u001b[0margs\u001b[0m\u001b[0;34m,\u001b[0m \u001b[0;34m**\u001b[0m\u001b[0mkwargs\u001b[0m\u001b[0;34m)\u001b[0m\u001b[0;34m\u001b[0m\u001b[0;34m\u001b[0m\u001b[0m\n\u001b[0m\u001b[1;32m    332\u001b[0m \u001b[0;34m\u001b[0m\u001b[0m\n\u001b[1;32m    333\u001b[0m         \u001b[0;31m# error: \"Callable[[VarArg(Any), KwArg(Any)], Any]\" has no\u001b[0m\u001b[0;34m\u001b[0m\u001b[0;34m\u001b[0m\u001b[0m\n",
      "\u001b[0;32m~/miniconda3/lib/python3.10/site-packages/pandas/io/parsers/readers.py\u001b[0m in \u001b[0;36mread_csv\u001b[0;34m(filepath_or_buffer, sep, delimiter, header, names, index_col, usecols, squeeze, prefix, mangle_dupe_cols, dtype, engine, converters, true_values, false_values, skipinitialspace, skiprows, skipfooter, nrows, na_values, keep_default_na, na_filter, verbose, skip_blank_lines, parse_dates, infer_datetime_format, keep_date_col, date_parser, dayfirst, cache_dates, iterator, chunksize, compression, thousands, decimal, lineterminator, quotechar, quoting, doublequote, escapechar, comment, encoding, encoding_errors, dialect, error_bad_lines, warn_bad_lines, on_bad_lines, delim_whitespace, low_memory, memory_map, float_precision, storage_options)\u001b[0m\n\u001b[1;32m    948\u001b[0m     \u001b[0mkwds\u001b[0m\u001b[0;34m.\u001b[0m\u001b[0mupdate\u001b[0m\u001b[0;34m(\u001b[0m\u001b[0mkwds_defaults\u001b[0m\u001b[0;34m)\u001b[0m\u001b[0;34m\u001b[0m\u001b[0;34m\u001b[0m\u001b[0m\n\u001b[1;32m    949\u001b[0m \u001b[0;34m\u001b[0m\u001b[0m\n\u001b[0;32m--> 950\u001b[0;31m     \u001b[0;32mreturn\u001b[0m \u001b[0m_read\u001b[0m\u001b[0;34m(\u001b[0m\u001b[0mfilepath_or_buffer\u001b[0m\u001b[0;34m,\u001b[0m \u001b[0mkwds\u001b[0m\u001b[0;34m)\u001b[0m\u001b[0;34m\u001b[0m\u001b[0;34m\u001b[0m\u001b[0m\n\u001b[0m\u001b[1;32m    951\u001b[0m \u001b[0;34m\u001b[0m\u001b[0m\n\u001b[1;32m    952\u001b[0m \u001b[0;34m\u001b[0m\u001b[0m\n",
      "\u001b[0;32m~/miniconda3/lib/python3.10/site-packages/pandas/io/parsers/readers.py\u001b[0m in \u001b[0;36m_read\u001b[0;34m(filepath_or_buffer, kwds)\u001b[0m\n\u001b[1;32m    609\u001b[0m \u001b[0;34m\u001b[0m\u001b[0m\n\u001b[1;32m    610\u001b[0m     \u001b[0;32mwith\u001b[0m \u001b[0mparser\u001b[0m\u001b[0;34m:\u001b[0m\u001b[0;34m\u001b[0m\u001b[0;34m\u001b[0m\u001b[0m\n\u001b[0;32m--> 611\u001b[0;31m         \u001b[0;32mreturn\u001b[0m \u001b[0mparser\u001b[0m\u001b[0;34m.\u001b[0m\u001b[0mread\u001b[0m\u001b[0;34m(\u001b[0m\u001b[0mnrows\u001b[0m\u001b[0;34m)\u001b[0m\u001b[0;34m\u001b[0m\u001b[0;34m\u001b[0m\u001b[0m\n\u001b[0m\u001b[1;32m    612\u001b[0m \u001b[0;34m\u001b[0m\u001b[0m\n\u001b[1;32m    613\u001b[0m \u001b[0;34m\u001b[0m\u001b[0m\n",
      "\u001b[0;32m~/miniconda3/lib/python3.10/site-packages/pandas/io/parsers/readers.py\u001b[0m in \u001b[0;36mread\u001b[0;34m(self, nrows)\u001b[0m\n\u001b[1;32m   1776\u001b[0m                     \u001b[0mcolumns\u001b[0m\u001b[0;34m,\u001b[0m\u001b[0;34m\u001b[0m\u001b[0;34m\u001b[0m\u001b[0m\n\u001b[1;32m   1777\u001b[0m                     \u001b[0mcol_dict\u001b[0m\u001b[0;34m,\u001b[0m\u001b[0;34m\u001b[0m\u001b[0;34m\u001b[0m\u001b[0m\n\u001b[0;32m-> 1778\u001b[0;31m                 \u001b[0;34m)\u001b[0m \u001b[0;34m=\u001b[0m \u001b[0mself\u001b[0m\u001b[0;34m.\u001b[0m\u001b[0m_engine\u001b[0m\u001b[0;34m.\u001b[0m\u001b[0mread\u001b[0m\u001b[0;34m(\u001b[0m  \u001b[0;31m# type: ignore[attr-defined]\u001b[0m\u001b[0;34m\u001b[0m\u001b[0;34m\u001b[0m\u001b[0m\n\u001b[0m\u001b[1;32m   1779\u001b[0m                     \u001b[0mnrows\u001b[0m\u001b[0;34m\u001b[0m\u001b[0;34m\u001b[0m\u001b[0m\n\u001b[1;32m   1780\u001b[0m                 )\n",
      "\u001b[0;32m~/miniconda3/lib/python3.10/site-packages/pandas/io/parsers/python_parser.py\u001b[0m in \u001b[0;36mread\u001b[0;34m(self, rows)\u001b[0m\n\u001b[1;32m    280\u001b[0m             \u001b[0mcontent\u001b[0m \u001b[0;34m=\u001b[0m \u001b[0mcontent\u001b[0m\u001b[0;34m[\u001b[0m\u001b[0;36m1\u001b[0m\u001b[0;34m:\u001b[0m\u001b[0;34m]\u001b[0m\u001b[0;34m\u001b[0m\u001b[0;34m\u001b[0m\u001b[0m\n\u001b[1;32m    281\u001b[0m \u001b[0;34m\u001b[0m\u001b[0m\n\u001b[0;32m--> 282\u001b[0;31m         \u001b[0malldata\u001b[0m \u001b[0;34m=\u001b[0m \u001b[0mself\u001b[0m\u001b[0;34m.\u001b[0m\u001b[0m_rows_to_cols\u001b[0m\u001b[0;34m(\u001b[0m\u001b[0mcontent\u001b[0m\u001b[0;34m)\u001b[0m\u001b[0;34m\u001b[0m\u001b[0;34m\u001b[0m\u001b[0m\n\u001b[0m\u001b[1;32m    283\u001b[0m         \u001b[0mdata\u001b[0m\u001b[0;34m,\u001b[0m \u001b[0mcolumns\u001b[0m \u001b[0;34m=\u001b[0m \u001b[0mself\u001b[0m\u001b[0;34m.\u001b[0m\u001b[0m_exclude_implicit_index\u001b[0m\u001b[0;34m(\u001b[0m\u001b[0malldata\u001b[0m\u001b[0;34m)\u001b[0m\u001b[0;34m\u001b[0m\u001b[0;34m\u001b[0m\u001b[0m\n\u001b[1;32m    284\u001b[0m \u001b[0;34m\u001b[0m\u001b[0m\n",
      "\u001b[0;32m~/miniconda3/lib/python3.10/site-packages/pandas/io/parsers/python_parser.py\u001b[0m in \u001b[0;36m_rows_to_cols\u001b[0;34m(self, content)\u001b[0m\n\u001b[1;32m   1043\u001b[0m                     \u001b[0mmsg\u001b[0m \u001b[0;34m+=\u001b[0m \u001b[0;34m\". \"\u001b[0m \u001b[0;34m+\u001b[0m \u001b[0mreason\u001b[0m\u001b[0;34m\u001b[0m\u001b[0;34m\u001b[0m\u001b[0m\n\u001b[1;32m   1044\u001b[0m \u001b[0;34m\u001b[0m\u001b[0m\n\u001b[0;32m-> 1045\u001b[0;31m                 \u001b[0mself\u001b[0m\u001b[0;34m.\u001b[0m\u001b[0m_alert_malformed\u001b[0m\u001b[0;34m(\u001b[0m\u001b[0mmsg\u001b[0m\u001b[0;34m,\u001b[0m \u001b[0mrow_num\u001b[0m \u001b[0;34m+\u001b[0m \u001b[0;36m1\u001b[0m\u001b[0;34m)\u001b[0m\u001b[0;34m\u001b[0m\u001b[0;34m\u001b[0m\u001b[0m\n\u001b[0m\u001b[1;32m   1046\u001b[0m \u001b[0;34m\u001b[0m\u001b[0m\n\u001b[1;32m   1047\u001b[0m         \u001b[0;31m# see gh-13320\u001b[0m\u001b[0;34m\u001b[0m\u001b[0;34m\u001b[0m\u001b[0m\n",
      "\u001b[0;32m~/miniconda3/lib/python3.10/site-packages/pandas/io/parsers/python_parser.py\u001b[0m in \u001b[0;36m_alert_malformed\u001b[0;34m(self, msg, row_num)\u001b[0m\n\u001b[1;32m    763\u001b[0m         \"\"\"\n\u001b[1;32m    764\u001b[0m         \u001b[0;32mif\u001b[0m \u001b[0mself\u001b[0m\u001b[0;34m.\u001b[0m\u001b[0mon_bad_lines\u001b[0m \u001b[0;34m==\u001b[0m \u001b[0mself\u001b[0m\u001b[0;34m.\u001b[0m\u001b[0mBadLineHandleMethod\u001b[0m\u001b[0;34m.\u001b[0m\u001b[0mERROR\u001b[0m\u001b[0;34m:\u001b[0m\u001b[0;34m\u001b[0m\u001b[0;34m\u001b[0m\u001b[0m\n\u001b[0;32m--> 765\u001b[0;31m             \u001b[0;32mraise\u001b[0m \u001b[0mParserError\u001b[0m\u001b[0;34m(\u001b[0m\u001b[0mmsg\u001b[0m\u001b[0;34m)\u001b[0m\u001b[0;34m\u001b[0m\u001b[0;34m\u001b[0m\u001b[0m\n\u001b[0m\u001b[1;32m    766\u001b[0m         \u001b[0;32melif\u001b[0m \u001b[0mself\u001b[0m\u001b[0;34m.\u001b[0m\u001b[0mon_bad_lines\u001b[0m \u001b[0;34m==\u001b[0m \u001b[0mself\u001b[0m\u001b[0;34m.\u001b[0m\u001b[0mBadLineHandleMethod\u001b[0m\u001b[0;34m.\u001b[0m\u001b[0mWARN\u001b[0m\u001b[0;34m:\u001b[0m\u001b[0;34m\u001b[0m\u001b[0;34m\u001b[0m\u001b[0m\n\u001b[1;32m    767\u001b[0m             \u001b[0mbase\u001b[0m \u001b[0;34m=\u001b[0m \u001b[0;34mf\"Skipping line {row_num}: \"\u001b[0m\u001b[0;34m\u001b[0m\u001b[0;34m\u001b[0m\u001b[0m\n",
      "\u001b[0;31mParserError\u001b[0m: Expected 11 fields in line 3, saw 22. Error could possibly be due to quotes being ignored when a multi-char delimiter is used."
     ]
    }
   ],
   "source": [
    "pd.read_clipboard()"
   ]
  },
  {
   "cell_type": "code",
   "execution_count": null,
   "id": "451eadb0",
   "metadata": {},
   "outputs": [],
   "source": []
  }
 ],
 "metadata": {
  "kernelspec": {
   "display_name": "Python 3 (ipykernel)",
   "language": "python",
   "name": "python3"
  },
  "language_info": {
   "codemirror_mode": {
    "name": "ipython",
    "version": 3
   },
   "file_extension": ".py",
   "mimetype": "text/x-python",
   "name": "python",
   "nbconvert_exporter": "python",
   "pygments_lexer": "ipython3",
   "version": "3.10.8"
  }
 },
 "nbformat": 4,
 "nbformat_minor": 5
}
